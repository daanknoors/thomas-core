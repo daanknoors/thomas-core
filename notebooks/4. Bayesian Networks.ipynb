{
 "cells": [
  {
   "cell_type": "markdown",
   "metadata": {},
   "source": [
    "# 4. Bayesian Networks"
   ]
  },
  {
   "cell_type": "markdown",
   "metadata": {},
   "source": [
    "## Preamble"
   ]
  },
  {
   "cell_type": "code",
   "execution_count": 1,
   "metadata": {},
   "outputs": [],
   "source": [
    "import os\n",
    "import ipykernel\n",
    "import ipywidgets as widgets\n",
    "from notebook import notebookapp\n",
    "import urllib\n",
    "import json\n",
    "\n",
    "import logging\n",
    "logging_setup = False\n",
    "\n",
    "# Functions below based on \n",
    "# https://stackoverflow.com/questions/12544056/how-do-i-get-the-current-ipython-jupyter-notebook-name\n",
    "def get_kernel_id():\n",
    "    connection_file = os.path.basename(ipykernel.get_connection_file())\n",
    "    kernel_id = connection_file.split('-', 1)[1].split('.')[0]\n",
    "    return kernel_id\n",
    "\n",
    "def notebook_path():\n",
    "    \"\"\"Returns the absolute path of the Notebook or None if it cannot be determined\n",
    "    NOTE: works only when the security is token-based or there is also no password\n",
    "    \"\"\"\n",
    "    kernel_id = get_kernel_id()\n",
    "    \n",
    "    for srv in notebookapp.list_running_servers():\n",
    "        try:\n",
    "            if srv['token']=='' and not srv['password']:  # No token and no password, ahem...\n",
    "                req = urllib.request.urlopen(srv['url']+'api/sessions')\n",
    "            else:\n",
    "                req = urllib.request.urlopen(srv['url']+'api/sessions?token='+srv['token'])\n",
    "            sessions = json.load(req)\n",
    "            for sess in sessions:\n",
    "                if sess['kernel']['id'] == kernel_id:\n",
    "                    return os.path.join(srv['notebook_dir'],sess['notebook']['path'])\n",
    "        except:\n",
    "            pass  # There may be stale entries in the runtime directory \n",
    "        \n",
    "    return None"
   ]
  },
  {
   "cell_type": "code",
   "execution_count": 2,
   "metadata": {},
   "outputs": [
    {
     "name": "stdout",
     "output_type": "stream",
     "text": [
      "connect to this kernel with:\n",
      "  jupyter console --existing 89f4f8ef-e81e-487e-b60c-df4b0109955f\n"
     ]
    }
   ],
   "source": [
    "print(f'connect to this kernel with:\\n  jupyter console --existing {get_kernel_id()}')"
   ]
  },
  {
   "cell_type": "code",
   "execution_count": 3,
   "metadata": {},
   "outputs": [],
   "source": [
    "if logging_setup == False:\n",
    "    log = logging.getLogger()\n",
    "\n",
    "    # handler = OutputWidgetHandler()\n",
    "    logfile = os.path.splitext(notebook_path())[0] + '.log'\n",
    "    \n",
    "    # Delete the logfile to start fresh.\n",
    "    # Use tail -F to follow the file regardless :-)\n",
    "    try:\n",
    "       os.remove(logfile)\n",
    "    except:\n",
    "       pass\n",
    "\n",
    "    with open(logfile, 'w') as fp:\n",
    "        fp.write('\\n')\n",
    "\n",
    "    handler = logging.FileHandler(logfile)\n",
    "    handler.setFormatter(\n",
    "        logging.Formatter(\n",
    "            '%(asctime)s  - %(name)-14s - [%(levelname)s] %(message)s',\n",
    "            \"%Y-%m-%d %H:%M:%S\")\n",
    "    )\n",
    "    log.addHandler(handler)\n",
    "    log.setLevel(logging.INFO)\n",
    "    logging_setup = True\n",
    "\n",
    "log.info('-' * 60)\n",
    "log.info('Starting the notebook!!')\n",
    "log.info('-' * 60)"
   ]
  },
  {
   "cell_type": "code",
   "execution_count": 4,
   "metadata": {},
   "outputs": [],
   "source": [
    "# handler.clear_logs()\n",
    "# for x in range(200):\n",
    "#     log.debug(f'{x:02}: yeaj')"
   ]
  },
  {
   "cell_type": "markdown",
   "metadata": {},
   "source": [
    "## Notebook"
   ]
  },
  {
   "cell_type": "code",
   "execution_count": 5,
   "metadata": {},
   "outputs": [],
   "source": [
    "import numpy as np\n",
    "import pandas as pd\n",
    "import lark\n",
    "\n",
    "import pybn\n",
    "import pybn.examples\n",
    "import pybn.reader.oobn\n",
    "\n",
    "from IPython.display import display, HTML\n",
    "\n",
    "log.debug(f'Using PyBN version: {pybn.__version__}')\n",
    "log.debug(f'Using Pandas version: {pd.__version__}')"
   ]
  },
  {
   "cell_type": "code",
   "execution_count": 6,
   "metadata": {},
   "outputs": [],
   "source": [
    "pybnlog = logging.getLogger('pybn')\n",
    "pybnlog.setLevel(logging.DEBUG)"
   ]
  },
  {
   "cell_type": "code",
   "execution_count": 7,
   "metadata": {},
   "outputs": [
    {
     "data": {
      "text/plain": [
       "<BayesianNetwork name='Student'>\n",
       "  <Node RV='I' states=['i0', 'i1'] />\n",
       "  <Node RV='S' states=['s0', 's1'] />\n",
       "  <Node RV='D' states=['d0', 'd1'] />\n",
       "  <Node RV='G' states=['g1', 'g2', 'g3'] />\n",
       "  <Node RV='L' states=['l0', 'l1'] />\n",
       "</BayesianNetwork>"
      ]
     },
     "execution_count": 7,
     "metadata": {},
     "output_type": "execute_result"
    }
   ],
   "source": [
    "# Load the Student Network from the examples\n",
    "Gs = pybn.examples.get_student_network()\n",
    "Gs"
   ]
  },
  {
   "cell_type": "code",
   "execution_count": 8,
   "metadata": {},
   "outputs": [
    {
     "data": {
      "text/html": [
       "\n",
       "            <div>\n",
       "                <div style='margin-top:6px'>\n",
       "                    <span><b>P(S|I)</b></span>\n",
       "                    <span style=\"font-style: italic;\">SAT Score</span>\n",
       "                </div>\n",
       "                <div>\n",
       "<style scoped>\n",
       "    .dataframe tbody tr th:only-of-type {\n",
       "        vertical-align: middle;\n",
       "    }\n",
       "\n",
       "    .dataframe tbody tr th {\n",
       "        vertical-align: top;\n",
       "    }\n",
       "\n",
       "    .dataframe thead th {\n",
       "        text-align: right;\n",
       "    }\n",
       "</style>\n",
       "<table border=\"1\" class=\"dataframe\">\n",
       "  <thead>\n",
       "    <tr style=\"text-align: right;\">\n",
       "      <th>S</th>\n",
       "      <th>s0</th>\n",
       "      <th>s1</th>\n",
       "    </tr>\n",
       "    <tr>\n",
       "      <th>I</th>\n",
       "      <th></th>\n",
       "      <th></th>\n",
       "    </tr>\n",
       "  </thead>\n",
       "  <tbody>\n",
       "    <tr>\n",
       "      <th>i0</th>\n",
       "      <td>0.95</td>\n",
       "      <td>0.05</td>\n",
       "    </tr>\n",
       "    <tr>\n",
       "      <th>i1</th>\n",
       "      <td>0.20</td>\n",
       "      <td>0.80</td>\n",
       "    </tr>\n",
       "  </tbody>\n",
       "</table>\n",
       "</div>\n",
       "            </div>\n",
       "        "
      ],
      "text/plain": [
       "P(S|I)\n",
       "I   S \n",
       "i0  s0    0.95\n",
       "    s1    0.05\n",
       "i1  s0    0.20\n",
       "    s1    0.80\n",
       "dtype: float64"
      ]
     },
     "execution_count": 8,
     "metadata": {},
     "output_type": "execute_result"
    }
   ],
   "source": [
    "# Accessing individual Nodes/CPTs is easy\n",
    "Gs['S'].cpt"
   ]
  },
  {
   "cell_type": "code",
   "execution_count": 9,
   "metadata": {},
   "outputs": [
    {
     "data": {
      "text/plain": [
       "{'I': factor(I)\n",
       " I\n",
       " i0    0.7\n",
       " i1    0.3\n",
       " dtype: float64,\n",
       " 'S': factor(S)\n",
       " S\n",
       " s0    0.725\n",
       " s1    0.275\n",
       " dtype: float64,\n",
       " 'D': factor(D)\n",
       " D\n",
       " d0    0.6\n",
       " d1    0.4\n",
       " dtype: float64}"
      ]
     },
     "execution_count": 9,
     "metadata": {},
     "output_type": "execute_result"
    }
   ],
   "source": [
    "# Querying the network is also simple. To compute the marginals over I, S and D:\n",
    "Gs.compute_marginals(['I', 'S', 'D'])"
   ]
  },
  {
   "cell_type": "code",
   "execution_count": 10,
   "metadata": {},
   "outputs": [
    {
     "data": {
      "text/plain": [
       "{'I': factor(I)\n",
       " I\n",
       " i0    1.0\n",
       " i1    0.0\n",
       " dtype: float64,\n",
       " 'S': factor(S)\n",
       " S\n",
       " s0    0.95\n",
       " s1    0.05\n",
       " dtype: float64,\n",
       " 'D': factor(D)\n",
       " D\n",
       " d0    0.6\n",
       " d1    0.4\n",
       " dtype: float64}"
      ]
     },
     "execution_count": 10,
     "metadata": {},
     "output_type": "execute_result"
    }
   ],
   "source": [
    "# To compute the marginals over I, S and D given evidence I=i0:\n",
    "Gs.compute_marginals(['I', 'S', 'D'], {'I':'i0'})"
   ]
  },
  {
   "cell_type": "code",
   "execution_count": 11,
   "metadata": {},
   "outputs": [
    {
     "data": {
      "text/html": [
       "\n",
       "            <div>\n",
       "                <div style='margin-top:6px'>\n",
       "                    <span><b>P(I|S)</b></span>\n",
       "                    <span style=\"font-style: italic;\"></span>\n",
       "                </div>\n",
       "                <div>\n",
       "<style scoped>\n",
       "    .dataframe tbody tr th:only-of-type {\n",
       "        vertical-align: middle;\n",
       "    }\n",
       "\n",
       "    .dataframe tbody tr th {\n",
       "        vertical-align: top;\n",
       "    }\n",
       "\n",
       "    .dataframe thead th {\n",
       "        text-align: right;\n",
       "    }\n",
       "</style>\n",
       "<table border=\"1\" class=\"dataframe\">\n",
       "  <thead>\n",
       "    <tr style=\"text-align: right;\">\n",
       "      <th>I</th>\n",
       "      <th>i0</th>\n",
       "    </tr>\n",
       "    <tr>\n",
       "      <th>S</th>\n",
       "      <th></th>\n",
       "    </tr>\n",
       "  </thead>\n",
       "  <tbody>\n",
       "    <tr>\n",
       "      <th>s0</th>\n",
       "      <td>0.917241</td>\n",
       "    </tr>\n",
       "    <tr>\n",
       "      <th>s1</th>\n",
       "      <td>0.127273</td>\n",
       "    </tr>\n",
       "  </tbody>\n",
       "</table>\n",
       "</div>\n",
       "            </div>\n",
       "        "
      ],
      "text/plain": [
       "P(I|S)\n",
       "S   I \n",
       "s0  i0    0.917241\n",
       "s1  i0    0.127273\n",
       "dtype: float64"
      ]
     },
     "execution_count": 11,
     "metadata": {},
     "output_type": "execute_result"
    }
   ],
   "source": [
    "# Complex queries can be run simply by providing the query as string:\n",
    "Gs.P('I=i0|S')"
   ]
  },
  {
   "cell_type": "code",
   "execution_count": 12,
   "metadata": {},
   "outputs": [
    {
     "data": {
      "text/html": [
       "\n",
       "            <div>\n",
       "                <div style='margin-top:6px'>\n",
       "                    <span><b>P(I,S|D)</b></span>\n",
       "                    <span style=\"font-style: italic;\"></span>\n",
       "                </div>\n",
       "                <div>\n",
       "<style scoped>\n",
       "    .dataframe tbody tr th:only-of-type {\n",
       "        vertical-align: middle;\n",
       "    }\n",
       "\n",
       "    .dataframe tbody tr th {\n",
       "        vertical-align: top;\n",
       "    }\n",
       "\n",
       "    .dataframe thead tr th {\n",
       "        text-align: left;\n",
       "    }\n",
       "\n",
       "    .dataframe thead tr:last-of-type th {\n",
       "        text-align: right;\n",
       "    }\n",
       "</style>\n",
       "<table border=\"1\" class=\"dataframe\">\n",
       "  <thead>\n",
       "    <tr>\n",
       "      <th>I</th>\n",
       "      <th colspan=\"2\" halign=\"left\">i0</th>\n",
       "      <th colspan=\"2\" halign=\"left\">i1</th>\n",
       "    </tr>\n",
       "    <tr>\n",
       "      <th>S</th>\n",
       "      <th>s0</th>\n",
       "      <th>s1</th>\n",
       "      <th>s0</th>\n",
       "      <th>s1</th>\n",
       "    </tr>\n",
       "    <tr>\n",
       "      <th>D</th>\n",
       "      <th></th>\n",
       "      <th></th>\n",
       "      <th></th>\n",
       "      <th></th>\n",
       "    </tr>\n",
       "  </thead>\n",
       "  <tbody>\n",
       "    <tr>\n",
       "      <th>d0</th>\n",
       "      <td>0.665</td>\n",
       "      <td>0.035</td>\n",
       "      <td>0.06</td>\n",
       "      <td>0.24</td>\n",
       "    </tr>\n",
       "    <tr>\n",
       "      <th>d1</th>\n",
       "      <td>0.665</td>\n",
       "      <td>0.035</td>\n",
       "      <td>0.06</td>\n",
       "      <td>0.24</td>\n",
       "    </tr>\n",
       "  </tbody>\n",
       "</table>\n",
       "</div>\n",
       "            </div>\n",
       "        "
      ],
      "text/plain": [
       "P(I,S|D)\n",
       "D   I   S \n",
       "d0  i0  s0    0.665\n",
       "        s1    0.035\n",
       "    i1  s0    0.060\n",
       "        s1    0.240\n",
       "d1  i0  s0    0.665\n",
       "        s1    0.035\n",
       "    i1  s0    0.060\n",
       "        s1    0.240\n",
       "dtype: float64"
      ]
     },
     "execution_count": 12,
     "metadata": {},
     "output_type": "execute_result"
    }
   ],
   "source": [
    "Gs.P('I,S|D')"
   ]
  },
  {
   "cell_type": "code",
   "execution_count": 13,
   "metadata": {},
   "outputs": [
    {
     "data": {
      "text/html": [
       "\n",
       "            <div>\n",
       "                <div style='margin-top:6px'>\n",
       "                    <span><b>P(I,S|D)</b></span>\n",
       "                    <span style=\"font-style: italic;\"></span>\n",
       "                </div>\n",
       "                <div>\n",
       "<style scoped>\n",
       "    .dataframe tbody tr th:only-of-type {\n",
       "        vertical-align: middle;\n",
       "    }\n",
       "\n",
       "    .dataframe tbody tr th {\n",
       "        vertical-align: top;\n",
       "    }\n",
       "\n",
       "    .dataframe thead tr th {\n",
       "        text-align: left;\n",
       "    }\n",
       "\n",
       "    .dataframe thead tr:last-of-type th {\n",
       "        text-align: right;\n",
       "    }\n",
       "</style>\n",
       "<table border=\"1\" class=\"dataframe\">\n",
       "  <thead>\n",
       "    <tr>\n",
       "      <th>I</th>\n",
       "      <th colspan=\"2\" halign=\"left\">i0</th>\n",
       "      <th colspan=\"2\" halign=\"left\">i1</th>\n",
       "    </tr>\n",
       "    <tr>\n",
       "      <th>S</th>\n",
       "      <th>s0</th>\n",
       "      <th>s1</th>\n",
       "      <th>s0</th>\n",
       "      <th>s1</th>\n",
       "    </tr>\n",
       "    <tr>\n",
       "      <th>D</th>\n",
       "      <th></th>\n",
       "      <th></th>\n",
       "      <th></th>\n",
       "      <th></th>\n",
       "    </tr>\n",
       "  </thead>\n",
       "  <tbody>\n",
       "    <tr>\n",
       "      <th>d0</th>\n",
       "      <td>0.665</td>\n",
       "      <td>0.035</td>\n",
       "      <td>0.06</td>\n",
       "      <td>0.24</td>\n",
       "    </tr>\n",
       "    <tr>\n",
       "      <th>d1</th>\n",
       "      <td>0.665</td>\n",
       "      <td>0.035</td>\n",
       "      <td>0.06</td>\n",
       "      <td>0.24</td>\n",
       "    </tr>\n",
       "  </tbody>\n",
       "</table>\n",
       "</div>\n",
       "            </div>\n",
       "        "
      ],
      "text/plain": [
       "P(I,S|D)\n",
       "D   I   S \n",
       "d0  i0  s0    0.665\n",
       "        s1    0.035\n",
       "    i1  s0    0.060\n",
       "        s1    0.240\n",
       "d1  i0  s0    0.665\n",
       "        s1    0.035\n",
       "    i1  s0    0.060\n",
       "        s1    0.240\n",
       "dtype: float64"
      ]
     },
     "execution_count": 13,
     "metadata": {},
     "output_type": "execute_result"
    }
   ],
   "source": [
    "# Alternatively, parameters can be specified separately through \n",
    "# `compute_posterior()`:\n",
    "Gs.compute_posterior(qd=['I','S'], qv={}, ed=['D'], ev={})"
   ]
  },
  {
   "cell_type": "code",
   "execution_count": 14,
   "metadata": {},
   "outputs": [
    {
     "name": "stdout",
     "output_type": "stream",
     "text": [
      "type(unstacked): <class 'pandas.core.frame.DataFrame'>\n",
      "\n"
     ]
    },
    {
     "data": {
      "text/html": [
       "<div>\n",
       "<style scoped>\n",
       "    .dataframe tbody tr th:only-of-type {\n",
       "        vertical-align: middle;\n",
       "    }\n",
       "\n",
       "    .dataframe tbody tr th {\n",
       "        vertical-align: top;\n",
       "    }\n",
       "\n",
       "    .dataframe thead tr th {\n",
       "        text-align: left;\n",
       "    }\n",
       "\n",
       "    .dataframe thead tr:last-of-type th {\n",
       "        text-align: right;\n",
       "    }\n",
       "</style>\n",
       "<table border=\"1\" class=\"dataframe\">\n",
       "  <thead>\n",
       "    <tr>\n",
       "      <th>I</th>\n",
       "      <th colspan=\"2\" halign=\"left\">i0</th>\n",
       "      <th colspan=\"2\" halign=\"left\">i1</th>\n",
       "    </tr>\n",
       "    <tr>\n",
       "      <th>S</th>\n",
       "      <th>s0</th>\n",
       "      <th>s1</th>\n",
       "      <th>s0</th>\n",
       "      <th>s1</th>\n",
       "    </tr>\n",
       "    <tr>\n",
       "      <th>D</th>\n",
       "      <th></th>\n",
       "      <th></th>\n",
       "      <th></th>\n",
       "      <th></th>\n",
       "    </tr>\n",
       "  </thead>\n",
       "  <tbody>\n",
       "    <tr>\n",
       "      <th>d0</th>\n",
       "      <td>0.665</td>\n",
       "      <td>0.035</td>\n",
       "      <td>0.06</td>\n",
       "      <td>0.24</td>\n",
       "    </tr>\n",
       "    <tr>\n",
       "      <th>d1</th>\n",
       "      <td>0.665</td>\n",
       "      <td>0.035</td>\n",
       "      <td>0.06</td>\n",
       "      <td>0.24</td>\n",
       "    </tr>\n",
       "  </tbody>\n",
       "</table>\n",
       "</div>"
      ],
      "text/plain": [
       "I      i0           i1      \n",
       "S      s0     s1    s0    s1\n",
       "D                           \n",
       "d0  0.665  0.035  0.06  0.24\n",
       "d1  0.665  0.035  0.06  0.24"
      ]
     },
     "metadata": {},
     "output_type": "display_data"
    }
   ],
   "source": [
    "# A CPT can be converted to a pandas.DataFrame by calling `unstack()` without\n",
    "# parameters.\n",
    "unstacked = Gs.P('I,S|D').unstack()\n",
    "print(f'type(unstacked): {type(unstacked)}')\n",
    "print()\n",
    "display(unstacked)"
   ]
  },
  {
   "cell_type": "code",
   "execution_count": 15,
   "metadata": {},
   "outputs": [
    {
     "data": {
      "text/plain": [
       "DiscreteNetworkNode('S', name='S', states=['s0', 's1'])"
      ]
     },
     "execution_count": 15,
     "metadata": {},
     "output_type": "execute_result"
    }
   ],
   "source": [
    "# Nodes can be accessed by using the BN as a `dict`:\n",
    "node = Gs['S']\n",
    "node"
   ]
  },
  {
   "cell_type": "code",
   "execution_count": 16,
   "metadata": {},
   "outputs": [
    {
     "data": {
      "text/plain": [
       "['s0', 's1']"
      ]
     },
     "execution_count": 16,
     "metadata": {},
     "output_type": "execute_result"
    }
   ],
   "source": [
    "# The Node-property 'states' will return a list of allowed states.\n",
    "Gs['S'].states"
   ]
  },
  {
   "cell_type": "code",
   "execution_count": 17,
   "metadata": {},
   "outputs": [
    {
     "data": {
      "image/png": "[encoded data removed]",
      "text/plain": [
       "<Figure size 432x288 with 1 Axes>"
      ]
     },
     "metadata": {},
     "output_type": "display_data"
    }
   ],
   "source": [
    "# The junction tree (jointree) can be inspected by calling `jt.draw()`:\n",
    "Gs.jt.draw()"
   ]
  },
  {
   "cell_type": "code",
   "execution_count": null,
   "metadata": {},
   "outputs": [],
   "source": []
  }
 ],
 "metadata": {
  "kernelspec": {
   "display_name": "pybn",
   "language": "python",
   "name": "pybn"
  },
  "language_info": {
   "codemirror_mode": {
    "name": "ipython",
    "version": 3
   },
   "file_extension": ".py",
   "mimetype": "text/x-python",
   "name": "python",
   "nbconvert_exporter": "python",
   "pygments_lexer": "ipython3",
   "version": "3.6.9"
  }
 },
 "nbformat": 4,
 "nbformat_minor": 4
}
