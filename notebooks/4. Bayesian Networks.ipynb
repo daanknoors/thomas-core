{
 "cells": [
  {
   "cell_type": "markdown",
   "metadata": {},
   "source": [
    "# 4. Bayesian Networks"
   ]
  },
  {
   "cell_type": "markdown",
   "metadata": {},
   "source": [
    "This notebook will show you how to query the main class of this package: `thomas.core.BayesianNetwork`."
   ]
  },
  {
   "cell_type": "code",
   "execution_count": 1,
   "metadata": {},
   "outputs": [
    {
     "name": "stdout",
     "output_type": "stream",
     "text": [
      "available imports:\n",
      "  import os\n",
      "  import logging\n",
      "  import pandas as pd\n",
      "  import numpy as np\n",
      "\n",
      "connect to this kernel with:\n",
      "  jupyter console --existing 965732d8-9276-4cfd-b7d3-ae732b24f5cd\n"
     ]
    }
   ],
   "source": [
    "%run '0. Preamble.ipynb'"
   ]
  },
  {
   "cell_type": "code",
   "execution_count": 2,
   "metadata": {},
   "outputs": [],
   "source": [
    "from thomas.core import BayesianNetwork\n",
    "from thomas.core import examples\n",
    "from thomas.core.reader import oobn\n",
    "\n",
    "from IPython.display import display, HTML"
   ]
  },
  {
   "cell_type": "markdown",
   "metadata": {},
   "source": [
    "## Student example"
   ]
  },
  {
   "cell_type": "code",
   "execution_count": 3,
   "metadata": {},
   "outputs": [
    {
     "data": {
      "text/plain": [
       "<BayesianNetwork name='Student'>\n",
       "  <Node RV='I' states=['i0', 'i1'] />\n",
       "  <Node RV='S' states=['s0', 's1'] />\n",
       "  <Node RV='D' states=['d0', 'd1'] />\n",
       "  <Node RV='G' states=['g1', 'g2', 'g3'] />\n",
       "  <Node RV='L' states=['l0', 'l1'] />\n",
       "</BayesianNetwork>"
      ]
     },
     "execution_count": 3,
     "metadata": {},
     "output_type": "execute_result"
    }
   ],
   "source": [
    "# Load the Student Network from the examples\n",
    "Gs = examples.get_student_network()\n",
    "Gs"
   ]
  },
  {
   "cell_type": "code",
   "execution_count": 4,
   "metadata": {},
   "outputs": [
    {
     "data": {
      "image/png": "[encoded data removed]",
      "text/plain": [
       "<Figure size 432x288 with 1 Axes>"
      ]
     },
     "metadata": {},
     "output_type": "display_data"
    }
   ],
   "source": [
    "# Show the network and its relations\n",
    "Gs.draw()"
   ]
  },
  {
   "cell_type": "code",
   "execution_count": 5,
   "metadata": {},
   "outputs": [
    {
     "data": {
      "text/html": [
       "\n",
       "            <div>\n",
       "                <div style='margin-top:6px'>\n",
       "                    <span><b>P(S|I)</b></span>\n",
       "                    <span style=\"font-style: italic;\">SAT Score</span>\n",
       "                </div>\n",
       "                <div>\n",
       "<style scoped>\n",
       "    .dataframe tbody tr th:only-of-type {\n",
       "        vertical-align: middle;\n",
       "    }\n",
       "\n",
       "    .dataframe tbody tr th {\n",
       "        vertical-align: top;\n",
       "    }\n",
       "\n",
       "    .dataframe thead th {\n",
       "        text-align: right;\n",
       "    }\n",
       "</style>\n",
       "<table border=\"1\" class=\"dataframe\">\n",
       "  <thead>\n",
       "    <tr style=\"text-align: right;\">\n",
       "      <th>S</th>\n",
       "      <th>s0</th>\n",
       "      <th>s1</th>\n",
       "    </tr>\n",
       "    <tr>\n",
       "      <th>I</th>\n",
       "      <th></th>\n",
       "      <th></th>\n",
       "    </tr>\n",
       "  </thead>\n",
       "  <tbody>\n",
       "    <tr>\n",
       "      <th>i0</th>\n",
       "      <td>0.95</td>\n",
       "      <td>0.05</td>\n",
       "    </tr>\n",
       "    <tr>\n",
       "      <th>i1</th>\n",
       "      <td>0.20</td>\n",
       "      <td>0.80</td>\n",
       "    </tr>\n",
       "  </tbody>\n",
       "</table>\n",
       "</div>\n",
       "            </div>\n",
       "        "
      ],
      "text/plain": [
       "P(S|I)\n",
       "I   S \n",
       "i0  s0    0.95\n",
       "    s1    0.05\n",
       "i1  s0    0.20\n",
       "    s1    0.80\n",
       "dtype: float64"
      ]
     },
     "execution_count": 5,
     "metadata": {},
     "output_type": "execute_result"
    }
   ],
   "source": [
    "# Accessing individual Nodes/CPTs is easy\n",
    "Gs['S'].cpt"
   ]
  },
  {
   "cell_type": "code",
   "execution_count": 6,
   "metadata": {},
   "outputs": [
    {
     "data": {
      "text/plain": [
       "{'I': factor(I)\n",
       " I\n",
       " i0    0.7\n",
       " i1    0.3\n",
       " dtype: float64,\n",
       " 'S': factor(S)\n",
       " S\n",
       " s0    0.725\n",
       " s1    0.275\n",
       " dtype: float64,\n",
       " 'D': factor(D)\n",
       " D\n",
       " d0    0.6\n",
       " d1    0.4\n",
       " dtype: float64}"
      ]
     },
     "execution_count": 6,
     "metadata": {},
     "output_type": "execute_result"
    }
   ],
   "source": [
    "# Querying the network is also simple. To compute the marginals over I, S and D:\n",
    "Gs.compute_marginals(['I', 'S', 'D'])"
   ]
  },
  {
   "cell_type": "code",
   "execution_count": 7,
   "metadata": {},
   "outputs": [
    {
     "data": {
      "text/plain": [
       "{'I': factor(I)\n",
       " I\n",
       " i0    1.0\n",
       " i1    0.0\n",
       " dtype: float64,\n",
       " 'S': factor(S)\n",
       " S\n",
       " s0    0.95\n",
       " s1    0.05\n",
       " dtype: float64,\n",
       " 'D': factor(D)\n",
       " D\n",
       " d0    0.6\n",
       " d1    0.4\n",
       " dtype: float64}"
      ]
     },
     "execution_count": 7,
     "metadata": {},
     "output_type": "execute_result"
    }
   ],
   "source": [
    "# To compute the marginals over I, S and D given evidence I=i0:\n",
    "Gs.compute_marginals(['I', 'S', 'D'], {'I':'i0'})"
   ]
  },
  {
   "cell_type": "code",
   "execution_count": 8,
   "metadata": {},
   "outputs": [
    {
     "data": {
      "text/html": [
       "\n",
       "            <div>\n",
       "                <div style='margin-top:6px'>\n",
       "                    <span><b>P(I|S)</b></span>\n",
       "                    <span style=\"font-style: italic;\"></span>\n",
       "                </div>\n",
       "                <div>\n",
       "<style scoped>\n",
       "    .dataframe tbody tr th:only-of-type {\n",
       "        vertical-align: middle;\n",
       "    }\n",
       "\n",
       "    .dataframe tbody tr th {\n",
       "        vertical-align: top;\n",
       "    }\n",
       "\n",
       "    .dataframe thead th {\n",
       "        text-align: right;\n",
       "    }\n",
       "</style>\n",
       "<table border=\"1\" class=\"dataframe\">\n",
       "  <thead>\n",
       "    <tr style=\"text-align: right;\">\n",
       "      <th>I</th>\n",
       "      <th>i0</th>\n",
       "    </tr>\n",
       "    <tr>\n",
       "      <th>S</th>\n",
       "      <th></th>\n",
       "    </tr>\n",
       "  </thead>\n",
       "  <tbody>\n",
       "    <tr>\n",
       "      <th>s0</th>\n",
       "      <td>0.917241</td>\n",
       "    </tr>\n",
       "    <tr>\n",
       "      <th>s1</th>\n",
       "      <td>0.127273</td>\n",
       "    </tr>\n",
       "  </tbody>\n",
       "</table>\n",
       "</div>\n",
       "            </div>\n",
       "        "
      ],
      "text/plain": [
       "P(I|S)\n",
       "S   I \n",
       "s0  i0    0.917241\n",
       "s1  i0    0.127273\n",
       "dtype: float64"
      ]
     },
     "execution_count": 8,
     "metadata": {},
     "output_type": "execute_result"
    }
   ],
   "source": [
    "# Complex queries can be run simply by providing the query as string:\n",
    "Gs.P('I=i0|S')"
   ]
  },
  {
   "cell_type": "code",
   "execution_count": 9,
   "metadata": {},
   "outputs": [
    {
     "data": {
      "text/html": [
       "\n",
       "            <div>\n",
       "                <div style='margin-top:6px'>\n",
       "                    <span><b>P(S|I)</b></span>\n",
       "                    <span style=\"font-style: italic;\"></span>\n",
       "                </div>\n",
       "                <div>\n",
       "<style scoped>\n",
       "    .dataframe tbody tr th:only-of-type {\n",
       "        vertical-align: middle;\n",
       "    }\n",
       "\n",
       "    .dataframe tbody tr th {\n",
       "        vertical-align: top;\n",
       "    }\n",
       "\n",
       "    .dataframe thead th {\n",
       "        text-align: right;\n",
       "    }\n",
       "</style>\n",
       "<table border=\"1\" class=\"dataframe\">\n",
       "  <thead>\n",
       "    <tr style=\"text-align: right;\">\n",
       "      <th>S</th>\n",
       "      <th>s0</th>\n",
       "      <th>s1</th>\n",
       "    </tr>\n",
       "    <tr>\n",
       "      <th>I</th>\n",
       "      <th></th>\n",
       "      <th></th>\n",
       "    </tr>\n",
       "  </thead>\n",
       "  <tbody>\n",
       "    <tr>\n",
       "      <th>i0</th>\n",
       "      <td>0.95</td>\n",
       "      <td>0.05</td>\n",
       "    </tr>\n",
       "    <tr>\n",
       "      <th>i1</th>\n",
       "      <td>0.20</td>\n",
       "      <td>0.80</td>\n",
       "    </tr>\n",
       "  </tbody>\n",
       "</table>\n",
       "</div>\n",
       "            </div>\n",
       "        "
      ],
      "text/plain": [
       "P(S|I)\n",
       "I   S \n",
       "i0  s0    0.95\n",
       "    s1    0.05\n",
       "i1  s0    0.20\n",
       "    s1    0.80\n",
       "dtype: float64"
      ]
     },
     "execution_count": 9,
     "metadata": {},
     "output_type": "execute_result"
    }
   ],
   "source": [
    "# This should be equal to Gs['S'] \n",
    "Gs.P('S|I')"
   ]
  },
  {
   "cell_type": "code",
   "execution_count": 10,
   "metadata": {},
   "outputs": [
    {
     "data": {
      "text/html": [
       "\n",
       "            <div>\n",
       "                <div style='margin-top:6px'>\n",
       "                    <span><b>P(I|S)</b></span>\n",
       "                    <span style=\"font-style: italic;\"></span>\n",
       "                </div>\n",
       "                <div>\n",
       "<style scoped>\n",
       "    .dataframe tbody tr th:only-of-type {\n",
       "        vertical-align: middle;\n",
       "    }\n",
       "\n",
       "    .dataframe tbody tr th {\n",
       "        vertical-align: top;\n",
       "    }\n",
       "\n",
       "    .dataframe thead th {\n",
       "        text-align: right;\n",
       "    }\n",
       "</style>\n",
       "<table border=\"1\" class=\"dataframe\">\n",
       "  <thead>\n",
       "    <tr style=\"text-align: right;\">\n",
       "      <th>I</th>\n",
       "      <th>i0</th>\n",
       "      <th>i1</th>\n",
       "    </tr>\n",
       "    <tr>\n",
       "      <th>S</th>\n",
       "      <th></th>\n",
       "      <th></th>\n",
       "    </tr>\n",
       "  </thead>\n",
       "  <tbody>\n",
       "    <tr>\n",
       "      <th>s0</th>\n",
       "      <td>0.917241</td>\n",
       "      <td>0.082759</td>\n",
       "    </tr>\n",
       "    <tr>\n",
       "      <th>s1</th>\n",
       "      <td>0.127273</td>\n",
       "      <td>0.872727</td>\n",
       "    </tr>\n",
       "  </tbody>\n",
       "</table>\n",
       "</div>\n",
       "            </div>\n",
       "        "
      ],
      "text/plain": [
       "P(I|S)\n",
       "S   I \n",
       "s0  i0    0.917241\n",
       "    i1    0.082759\n",
       "s1  i0    0.127273\n",
       "    i1    0.872727\n",
       "dtype: float64"
      ]
     },
     "execution_count": 10,
     "metadata": {},
     "output_type": "execute_result"
    }
   ],
   "source": [
    "# Alternatively, parameters can be specified separately through \n",
    "# `compute_posterior()`:\n",
    "Gs.compute_posterior(qd=['I'], qv={}, ed=['S'], ev={})"
   ]
  },
  {
   "cell_type": "code",
   "execution_count": 11,
   "metadata": {},
   "outputs": [
    {
     "name": "stdout",
     "output_type": "stream",
     "text": [
      "type(unstacked): <class 'pandas.core.frame.DataFrame'>\n",
      "\n"
     ]
    },
    {
     "data": {
      "text/html": [
       "<div>\n",
       "<style scoped>\n",
       "    .dataframe tbody tr th:only-of-type {\n",
       "        vertical-align: middle;\n",
       "    }\n",
       "\n",
       "    .dataframe tbody tr th {\n",
       "        vertical-align: top;\n",
       "    }\n",
       "\n",
       "    .dataframe thead th {\n",
       "        text-align: right;\n",
       "    }\n",
       "</style>\n",
       "<table border=\"1\" class=\"dataframe\">\n",
       "  <thead>\n",
       "    <tr style=\"text-align: right;\">\n",
       "      <th>I</th>\n",
       "      <th>i0</th>\n",
       "      <th>i1</th>\n",
       "    </tr>\n",
       "    <tr>\n",
       "      <th>S</th>\n",
       "      <th></th>\n",
       "      <th></th>\n",
       "    </tr>\n",
       "  </thead>\n",
       "  <tbody>\n",
       "    <tr>\n",
       "      <th>s0</th>\n",
       "      <td>0.917241</td>\n",
       "      <td>0.082759</td>\n",
       "    </tr>\n",
       "    <tr>\n",
       "      <th>s1</th>\n",
       "      <td>0.127273</td>\n",
       "      <td>0.872727</td>\n",
       "    </tr>\n",
       "  </tbody>\n",
       "</table>\n",
       "</div>"
      ],
      "text/plain": [
       "I         i0        i1\n",
       "S                     \n",
       "s0  0.917241  0.082759\n",
       "s1  0.127273  0.872727"
      ]
     },
     "metadata": {},
     "output_type": "display_data"
    }
   ],
   "source": [
    "# A CPT can be converted to a pandas.DataFrame by calling `unstack()` without\n",
    "# parameters. Note that this only works if there are conditioning variables.\n",
    "unstacked = Gs.P('I|S').unstack()\n",
    "print(f'type(unstacked): {type(unstacked)}')\n",
    "print()\n",
    "display(unstacked)"
   ]
  },
  {
   "cell_type": "code",
   "execution_count": 12,
   "metadata": {},
   "outputs": [
    {
     "data": {
      "text/plain": [
       "DiscreteNetworkNode('S', name='S', states=['s0', 's1'])"
      ]
     },
     "execution_count": 12,
     "metadata": {},
     "output_type": "execute_result"
    }
   ],
   "source": [
    "# Nodes can be accessed by using the BN as a `dict`:\n",
    "node = Gs['S']\n",
    "node"
   ]
  },
  {
   "cell_type": "code",
   "execution_count": 13,
   "metadata": {},
   "outputs": [
    {
     "data": {
      "text/plain": [
       "['s0', 's1']"
      ]
     },
     "execution_count": 13,
     "metadata": {},
     "output_type": "execute_result"
    }
   ],
   "source": [
    "# The Node-property 'states' will return a list of allowed states.\n",
    "Gs['S'].states"
   ]
  },
  {
   "cell_type": "code",
   "execution_count": 14,
   "metadata": {},
   "outputs": [
    {
     "data": {
      "image/png": "[encoded data removed]",
      "text/plain": [
       "<Figure size 432x288 with 1 Axes>"
      ]
     },
     "metadata": {},
     "output_type": "display_data"
    }
   ],
   "source": [
    "# The junction tree (jointree) can be inspected by calling `jt.draw()`:\n",
    "Gs.jt.draw()"
   ]
  },
  {
   "cell_type": "markdown",
   "metadata": {},
   "source": [
    "## Importing Bayesian Networks"
   ]
  },
  {
   "cell_type": "markdown",
   "metadata": {},
   "source": [
    "`thomas` supports loading Bayesian Networks from different file formats:\n",
    "* `.net`: the Netica file format\n",
    "* `.oobn`: the Hugin Object Oriented Bayesian Network file format\n",
    "* `.json`: thomas' custom, JSON based format.\n",
    "\n",
    "As an example, we'll open an `oobn` file."
   ]
  },
  {
   "cell_type": "code",
   "execution_count": 15,
   "metadata": {},
   "outputs": [],
   "source": [
    "from thomas.core.reader import oobn, net"
   ]
  },
  {
   "cell_type": "code",
   "execution_count": 16,
   "metadata": {},
   "outputs": [
    {
     "data": {
      "text/plain": [
       "factor(death)\n",
       "death\n",
       "0-30 days      0.082950\n",
       "1-2 years      0.180994\n",
       "1-4 months     0.212412\n",
       "4-6 months     0.098806\n",
       "6-12 months    0.199201\n",
       "> 2 years      0.225637\n",
       "dtype: float64"
      ]
     },
     "execution_count": 16,
     "metadata": {},
     "output_type": "execute_result"
    }
   ],
   "source": [
    "# Read a file in OOBN format\n",
    "filename = thomas.core.get_pkg_data('lungcancer.oobn')\n",
    "bn = oobn.read(filename)\n",
    "\n",
    "bn.P('death').as_factor()"
   ]
  },
  {
   "cell_type": "code",
   "execution_count": 17,
   "metadata": {},
   "outputs": [
    {
     "data": {
      "text/plain": [
       "factor(death)\n",
       "death\n",
       "0-30 days      0.082937\n",
       "1-2 years      0.180999\n",
       "1-4 months     0.212387\n",
       "4-6 months     0.098801\n",
       "6-12 months    0.199204\n",
       "> 2 years      0.225673\n",
       "dtype: float64"
      ]
     },
     "execution_count": 17,
     "metadata": {},
     "output_type": "execute_result"
    }
   ],
   "source": [
    "# Read a file in NET format\n",
    "filename = thomas.core.get_pkg_data('lungcancer.net')\n",
    "bn = net.read(filename)\n",
    "\n",
    "bn.P('death').as_factor()"
   ]
  },
  {
   "cell_type": "code",
   "execution_count": 18,
   "metadata": {},
   "outputs": [
    {
     "name": "stdout",
     "output_type": "stream",
     "text": [
      "Current directory: \"/Users/melle/python_projects/thomas/thomas-core/notebooks\"\n",
      "Downloading \"asia.net.gz\" from \"https://www.bnlearn.com/bnrepository/asia/asia.net.gz\"\n",
      "Unzipping \"asia.net.gz\"\n",
      "Saving \"asia.net\"\n"
     ]
    },
    {
     "data": {
      "text/html": [
       "\n",
       "            <div>\n",
       "                <div style='margin-top:6px'>\n",
       "                    <span><b>P(asia)</b></span>\n",
       "                    <span style=\"font-style: italic;\"></span>\n",
       "                </div>\n",
       "                <div>\n",
       "<style scoped>\n",
       "    .dataframe tbody tr th:only-of-type {\n",
       "        vertical-align: middle;\n",
       "    }\n",
       "\n",
       "    .dataframe tbody tr th {\n",
       "        vertical-align: top;\n",
       "    }\n",
       "\n",
       "    .dataframe thead th {\n",
       "        text-align: right;\n",
       "    }\n",
       "</style>\n",
       "<table border=\"1\" class=\"dataframe\">\n",
       "  <thead>\n",
       "    <tr style=\"text-align: right;\">\n",
       "      <th>asia</th>\n",
       "      <th>no</th>\n",
       "      <th>yes</th>\n",
       "    </tr>\n",
       "  </thead>\n",
       "  <tbody>\n",
       "    <tr>\n",
       "      <th></th>\n",
       "      <td>0.99</td>\n",
       "      <td>0.01</td>\n",
       "    </tr>\n",
       "  </tbody>\n",
       "</table>\n",
       "</div>\n",
       "            </div>\n",
       "        "
      ],
      "text/plain": [
       "P(asia)\n",
       "asia\n",
       "no     0.99\n",
       "yes    0.01\n",
       "dtype: float64"
      ]
     },
     "metadata": {},
     "output_type": "display_data"
    }
   ],
   "source": [
    "# Download and read another file in NET format\n",
    "import requests\n",
    "import gzip\n",
    "\n",
    "filename = 'asia.net'\n",
    "\n",
    "if not os.path.exists(filename):\n",
    "    url = 'https://www.bnlearn.com/bnrepository/asia/asia.net.gz'\n",
    "    target_path = 'asia.net.gz'\n",
    "    print(f'Current directory: \"{os.getcwd()}\"')\n",
    "    print(f'Downloading \"{target_path}\" from \"{url}\"')\n",
    "\n",
    "    response = requests.get(url, stream=True)\n",
    "    if response.status_code == 200:\n",
    "        with open(target_path, 'wb') as f:\n",
    "            f.write(response.raw.read())\n",
    "\n",
    "        print(f'Unzipping \"{target_path}\"')\n",
    "        data = gzip.open(target_path)\n",
    "\n",
    "        print(f'Saving \"{filename}\"')\n",
    "        with open(filename, 'wb') as fp:\n",
    "            fp.write(data.read())\n",
    "\n",
    "    else:\n",
    "        print('ERROR: Could not download file!?')\n",
    "\n",
    "bn = net.read(filename)\n",
    "display(bn.P('asia'))"
   ]
  }
 ],
 "metadata": {
  "kernelspec": {
   "display_name": "thomas",
   "language": "python",
   "name": "thomas"
  },
  "language_info": {
   "codemirror_mode": {
    "name": "ipython",
    "version": 3
   },
   "file_extension": ".py",
   "mimetype": "text/x-python",
   "name": "python",
   "nbconvert_exporter": "python",
   "pygments_lexer": "ipython3",
   "version": "3.6.9"
  }
 },
 "nbformat": 4,
 "nbformat_minor": 4
}
