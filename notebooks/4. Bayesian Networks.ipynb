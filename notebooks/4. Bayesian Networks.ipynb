{
 "cells": [
  {
   "cell_type": "markdown",
   "metadata": {},
   "source": [
    "# 4. Bayesian Networks"
   ]
  },
  {
   "cell_type": "code",
   "execution_count": 1,
   "metadata": {},
   "outputs": [
    {
     "name": "stdout",
     "output_type": "stream",
     "text": [
      "Using PyBN version: 2019-03-27 10:32\n",
      "Using Pandas version: 0.24.1\n"
     ]
    }
   ],
   "source": [
    "import numpy as np\n",
    "import pandas as pd\n",
    "import lark\n",
    "\n",
    "import pybn\n",
    "import pybn.examples\n",
    "import pybn.reader.oobn\n",
    "\n",
    "from IPython.display import display, HTML\n",
    "\n",
    "print(f'Using PyBN version: {pybn.__version__}')\n",
    "print(f'Using Pandas version: {pd.__version__}')\n",
    "\n",
    "%load_ext autoreload\n",
    "%autoreload 2"
   ]
  },
  {
   "cell_type": "code",
   "execution_count": 2,
   "metadata": {},
   "outputs": [
    {
     "data": {
      "text/plain": [
       "<BayesianNetwork name='Student'>\n",
       "  <Node name='I' />\n",
       "  <Node name='S' />\n",
       "  <Node name='D' />\n",
       "  <Node name='G' />\n",
       "  <Node name='L' />\n",
       "</BayesianNetwork>"
      ]
     },
     "execution_count": 2,
     "metadata": {},
     "output_type": "execute_result"
    }
   ],
   "source": [
    "# Load the Student Network from the examples\n",
    "Gstudent = pybn.examples.get_student_network()\n",
    "Gstudent"
   ]
  },
  {
   "cell_type": "code",
   "execution_count": 3,
   "metadata": {},
   "outputs": [
    {
     "data": {
      "text/html": [
       "\n",
       "            <div>\n",
       "                <div style='margin-top:6px'>\n",
       "                    <span><b>P(S|I)</b></span>\n",
       "                    <span style=\"font-style: italic;\">SAT Score</span>\n",
       "                </div>\n",
       "                <div>\n",
       "<style scoped>\n",
       "    .dataframe tbody tr th:only-of-type {\n",
       "        vertical-align: middle;\n",
       "    }\n",
       "\n",
       "    .dataframe tbody tr th {\n",
       "        vertical-align: top;\n",
       "    }\n",
       "\n",
       "    .dataframe thead th {\n",
       "        text-align: right;\n",
       "    }\n",
       "</style>\n",
       "<table border=\"1\" class=\"dataframe\">\n",
       "  <thead>\n",
       "    <tr style=\"text-align: right;\">\n",
       "      <th>S</th>\n",
       "      <th>s0</th>\n",
       "      <th>s1</th>\n",
       "    </tr>\n",
       "    <tr>\n",
       "      <th>I</th>\n",
       "      <th></th>\n",
       "      <th></th>\n",
       "    </tr>\n",
       "  </thead>\n",
       "  <tbody>\n",
       "    <tr>\n",
       "      <th>i0</th>\n",
       "      <td>0.95</td>\n",
       "      <td>0.05</td>\n",
       "    </tr>\n",
       "    <tr>\n",
       "      <th>i1</th>\n",
       "      <td>0.20</td>\n",
       "      <td>0.80</td>\n",
       "    </tr>\n",
       "  </tbody>\n",
       "</table>\n",
       "</div>\n",
       "            </div>\n",
       "        "
      ],
      "text/plain": [
       "P(S|I)\n",
       "I   S \n",
       "i0  s0    0.95\n",
       "    s1    0.05\n",
       "i1  s0    0.20\n",
       "    s1    0.80\n",
       "dtype: float64"
      ]
     },
     "execution_count": 3,
     "metadata": {},
     "output_type": "execute_result"
    }
   ],
   "source": [
    "# Accessing individual Nodes/CPTs is easy\n",
    "Gstudent['S']"
   ]
  },
  {
   "cell_type": "code",
   "execution_count": 4,
   "metadata": {},
   "outputs": [
    {
     "data": {
      "text/plain": [
       "['s0', 's1']"
      ]
     },
     "execution_count": 4,
     "metadata": {},
     "output_type": "execute_result"
    }
   ],
   "source": [
    "# The Node-property 'states' will return a list of allowed states.\n",
    "Gstudent['S'].states"
   ]
  },
  {
   "cell_type": "code",
   "execution_count": 5,
   "metadata": {},
   "outputs": [
    {
     "data": {
      "text/html": [
       "\n",
       "            <div>\n",
       "                <div style='margin-top:6px'>\n",
       "                    <span><b>P(G|I)</b></span>\n",
       "                    <span style=\"font-style: italic;\"></span>\n",
       "                </div>\n",
       "                <div>\n",
       "<style scoped>\n",
       "    .dataframe tbody tr th:only-of-type {\n",
       "        vertical-align: middle;\n",
       "    }\n",
       "\n",
       "    .dataframe tbody tr th {\n",
       "        vertical-align: top;\n",
       "    }\n",
       "\n",
       "    .dataframe thead th {\n",
       "        text-align: right;\n",
       "    }\n",
       "</style>\n",
       "<table border=\"1\" class=\"dataframe\">\n",
       "  <thead>\n",
       "    <tr style=\"text-align: right;\">\n",
       "      <th>G</th>\n",
       "      <th>g1</th>\n",
       "      <th>g2</th>\n",
       "      <th>g3</th>\n",
       "    </tr>\n",
       "    <tr>\n",
       "      <th>I</th>\n",
       "      <th></th>\n",
       "      <th></th>\n",
       "      <th></th>\n",
       "    </tr>\n",
       "  </thead>\n",
       "  <tbody>\n",
       "    <tr>\n",
       "      <th>i0</th>\n",
       "      <td>0.20</td>\n",
       "      <td>0.340</td>\n",
       "      <td>0.460</td>\n",
       "    </tr>\n",
       "    <tr>\n",
       "      <th>i1</th>\n",
       "      <td>0.74</td>\n",
       "      <td>0.168</td>\n",
       "      <td>0.092</td>\n",
       "    </tr>\n",
       "  </tbody>\n",
       "</table>\n",
       "</div>\n",
       "            </div>\n",
       "        "
      ],
      "text/plain": [
       "P(G|I)\n",
       "I   G \n",
       "i0  g1    0.200\n",
       "    g2    0.340\n",
       "    g3    0.460\n",
       "i1  g1    0.740\n",
       "    g2    0.168\n",
       "    g3    0.092\n",
       "dtype: float64"
      ]
     },
     "execution_count": 5,
     "metadata": {},
     "output_type": "execute_result"
    }
   ],
   "source": [
    "# Querying the network is also simple. To compute the probability of G given I:\n",
    "Gstudent.P('G|I')"
   ]
  },
  {
   "cell_type": "code",
   "execution_count": 6,
   "metadata": {},
   "outputs": [
    {
     "data": {
      "text/html": [
       "\n",
       "            <div>\n",
       "                <div style='margin-top:6px'>\n",
       "                    <span><b>P(G,I)</b></span>\n",
       "                    <span style=\"font-style: italic;\"></span>\n",
       "                </div>\n",
       "                <div>\n",
       "<style scoped>\n",
       "    .dataframe tbody tr th:only-of-type {\n",
       "        vertical-align: middle;\n",
       "    }\n",
       "\n",
       "    .dataframe tbody tr th {\n",
       "        vertical-align: top;\n",
       "    }\n",
       "\n",
       "    .dataframe thead tr th {\n",
       "        text-align: left;\n",
       "    }\n",
       "</style>\n",
       "<table border=\"1\" class=\"dataframe\">\n",
       "  <thead>\n",
       "    <tr>\n",
       "      <th>G</th>\n",
       "      <th colspan=\"2\" halign=\"left\">g1</th>\n",
       "      <th colspan=\"2\" halign=\"left\">g2</th>\n",
       "      <th colspan=\"2\" halign=\"left\">g3</th>\n",
       "    </tr>\n",
       "    <tr>\n",
       "      <th>I</th>\n",
       "      <th>i0</th>\n",
       "      <th>i1</th>\n",
       "      <th>i0</th>\n",
       "      <th>i1</th>\n",
       "      <th>i0</th>\n",
       "      <th>i1</th>\n",
       "    </tr>\n",
       "  </thead>\n",
       "  <tbody>\n",
       "    <tr>\n",
       "      <th></th>\n",
       "      <td>0.14</td>\n",
       "      <td>0.222</td>\n",
       "      <td>0.238</td>\n",
       "      <td>0.0504</td>\n",
       "      <td>0.322</td>\n",
       "      <td>0.0276</td>\n",
       "    </tr>\n",
       "  </tbody>\n",
       "</table>\n",
       "</div>\n",
       "            </div>\n",
       "        "
      ],
      "text/plain": [
       "P(G,I)\n",
       "G   I \n",
       "g1  i0    0.1400\n",
       "    i1    0.2220\n",
       "g2  i0    0.2380\n",
       "    i1    0.0504\n",
       "g3  i0    0.3220\n",
       "    i1    0.0276\n",
       "dtype: float64"
      ]
     },
     "execution_count": 6,
     "metadata": {},
     "output_type": "execute_result"
    }
   ],
   "source": [
    "# Querying the network to yield JPTs.\n",
    "Gstudent.P('G,I')"
   ]
  },
  {
   "cell_type": "code",
   "execution_count": 7,
   "metadata": {},
   "outputs": [
    {
     "data": {
      "text/html": [
       "\n",
       "            <div>\n",
       "                <div style='margin-top:6px'>\n",
       "                    <span><b>P(G)</b></span>\n",
       "                    <span style=\"font-style: italic;\"></span>\n",
       "                </div>\n",
       "                <div>\n",
       "<style scoped>\n",
       "    .dataframe tbody tr th:only-of-type {\n",
       "        vertical-align: middle;\n",
       "    }\n",
       "\n",
       "    .dataframe tbody tr th {\n",
       "        vertical-align: top;\n",
       "    }\n",
       "\n",
       "    .dataframe thead th {\n",
       "        text-align: right;\n",
       "    }\n",
       "</style>\n",
       "<table border=\"1\" class=\"dataframe\">\n",
       "  <thead>\n",
       "    <tr style=\"text-align: right;\">\n",
       "      <th>G</th>\n",
       "      <th>g1</th>\n",
       "      <th>g2</th>\n",
       "      <th>g3</th>\n",
       "    </tr>\n",
       "  </thead>\n",
       "  <tbody>\n",
       "    <tr>\n",
       "      <th></th>\n",
       "      <td>0.74</td>\n",
       "      <td>0.168</td>\n",
       "      <td>0.092</td>\n",
       "    </tr>\n",
       "  </tbody>\n",
       "</table>\n",
       "</div>\n",
       "            </div>\n",
       "        "
      ],
      "text/plain": [
       "P(G)\n",
       "G\n",
       "g1    0.740\n",
       "g2    0.168\n",
       "g3    0.092\n",
       "dtype: float64"
      ]
     },
     "execution_count": 7,
     "metadata": {},
     "output_type": "execute_result"
    }
   ],
   "source": [
    "Gstudent.P('G|I=i1')"
   ]
  },
  {
   "cell_type": "code",
   "execution_count": null,
   "metadata": {},
   "outputs": [],
   "source": []
  }
 ],
 "metadata": {
  "kernelspec": {
   "display_name": "py-bn",
   "language": "python",
   "name": "py-bn"
  },
  "language_info": {
   "codemirror_mode": {
    "name": "ipython",
    "version": 3
   },
   "file_extension": ".py",
   "mimetype": "text/x-python",
   "name": "python",
   "nbconvert_exporter": "python",
   "pygments_lexer": "ipython3",
   "version": "3.6.8"
  }
 },
 "nbformat": 4,
 "nbformat_minor": 2
}
